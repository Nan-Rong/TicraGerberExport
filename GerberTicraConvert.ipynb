{
 "cells": [
  {
   "cell_type": "code",
   "execution_count": 45,
   "id": "28269f02-fc2e-4059-b2c9-9e52507d93dc",
   "metadata": {},
   "outputs": [
    {
     "data": {
      "text/plain": [
       "'output_mla44.gbr'"
      ]
     },
     "execution_count": 45,
     "metadata": {},
     "output_type": "execute_result"
    }
   ],
   "source": [
    "################# Ticra Gerber to Altium/Gerv.exe Compatible Gerber ######################\n",
    "import re\n",
    "from pathlib import Path\n",
    "\n",
    "def float_to_fixed_44(x):\n",
    "    \"\"\"Convert float to 4.4 format integer string.\"\"\"\n",
    "    return str(int(round(x * 10000)))\n",
    "    \n",
    "input_path = Path(\"56top.gbr\")\n",
    "\n",
    "with open(input_path, \"r\") as f:\n",
    "    for line in f: \n",
    "        if line.strip() == \"G36*\": #Strip Ticra Header\n",
    "            break  \n",
    "    nsi_content = f.readlines() # Read and Store Rest of Data\n",
    "\n",
    "# Regex to match lines with coordinates\n",
    "coord_pattern = re.compile(r'X([-\\d.]+)\\s*Y([-\\d.]+)\\s*D(\\d+)\\*')\n",
    "\n",
    "converted_lines = []\n",
    "for line in nsi_content:\n",
    "    match = coord_pattern.search(line)\n",
    "    if match:\n",
    "        x_val = float(match.group(1))\n",
    "        y_val = float(match.group(2))\n",
    "        d_code = match.group(3)\n",
    "        new_line = f\"X{float_to_fixed_44(x_val)}Y{float_to_fixed_44(y_val)}D{d_code}*\\n\"\n",
    "        converted_lines.append(new_line)\n",
    "    else:\n",
    "        converted_lines.append(line)\n",
    "\n",
    "mla_header = [\n",
    "    \"G04 #@! TF.GenerationSoftware,Altium Limited,Altium Designer,25.0.2 (28)*\\n\",\n",
    "    \"G04 Layer_Physical_Order=1*\\n\",\n",
    "    \"G04 Layer_Color=255*\\n\",\n",
    "    \"%FSLAX44Y44*%\\n\",\n",
    "    \"%MOMM*%\\n\", # Units Mode = mm\n",
    "    \"G71*\\n\", # RS-274-x Oleder Version Units Mode = mm \n",
    "    \"G04 #@! TF.FilePolarity,Positive*\\n\", # Positive = Drawn Shapes Add Copper\n",
    "    \"G01*\\n\", # Linear interpolation mode\n",
    "    \"G75*\\n\", # Circular interpolation with multi-quadrant mode\n",
    "    \"G36*\\n\", # Polygon Fill\n",
    "    #\"%ADD11C,1.00000*%\\n\" # Drill Hole Sizing Diameter = 1 mm\n",
    "    #\"%ADD12C,0.62000*%\\n\" # Diameter = 0.62000 mm\n",
    "]\n",
    "\n",
    "final_output = mla_header + converted_lines\n",
    "with open(\"output_mla44.gbr\", \"w\") as f:\n",
    "    f.writelines(final_output)\n",
    "\n",
    "Path(\"output_mla44.gbr\").name\n"
   ]
  }
 ],
 "metadata": {
  "kernelspec": {
   "display_name": "Python 3 (ipykernel)",
   "language": "python",
   "name": "python3"
  },
  "language_info": {
   "codemirror_mode": {
    "name": "ipython",
    "version": 3
   },
   "file_extension": ".py",
   "mimetype": "text/x-python",
   "name": "python",
   "nbconvert_exporter": "python",
   "pygments_lexer": "ipython3",
   "version": "3.10.15"
  }
 },
 "nbformat": 4,
 "nbformat_minor": 5
}
